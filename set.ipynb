{
 "cells": [
  {
   "cell_type": "code",
   "execution_count": 1,
   "id": "fd5d7f25-b9dc-4fd6-aa70-b2c0415c8eba",
   "metadata": {},
   "outputs": [],
   "source": [
    "#Question_1------------>"
   ]
  },
  {
   "cell_type": "code",
   "execution_count": 2,
   "id": "6d44baab-5c89-4b9c-833d-87a1a16820a1",
   "metadata": {},
   "outputs": [
    {
     "name": "stdout",
     "output_type": "stream",
     "text": [
      "Is the given list of sets a partition? True\n"
     ]
    }
   ],
   "source": [
    "def is_partition(universal_set, subsets):\n",
    "\n",
    "# Condition 1: \n",
    "    union_of_subsets = set().union(*subsets)\n",
    "    if union_of_subsets != universal_set:\n",
    "        return False\n",
    "\n",
    "#condition 2\n",
    "    for i, subset1 in enumerate(subsets):\n",
    "        for j, subset2 in enumerate(subsets):\n",
    "            if i != j and not subset1.isdisjoint(subset2):\n",
    "                return False\n",
    "\n",
    "    return True\n",
    "universal_set = {1, 2, 3, 4, 5, 6}\n",
    "subsets = [{1, 2}, {3, 4}, {5, 6}]\n",
    "\n",
    "result = is_partition(universal_set, subsets)\n",
    "print(f\"Is the given list of sets a partition? {result}\")"
   ]
  },
  {
   "cell_type": "code",
   "execution_count": 3,
   "id": "0cd5ff95-f38e-4948-9cad-c68f084b32d3",
   "metadata": {},
   "outputs": [
    {
     "name": "stdout",
     "output_type": "stream",
     "text": [
      "Distributive Property Holds: True\n",
      "De Morgan's First Law Holds: True\n",
      "De Morgan's Second Law Holds: True\n"
     ]
    },
    {
     "data": {
      "image/png": "[encoded data removed]",
      "text/plain": [
       "<Figure size 800x800 with 1 Axes>"
      ]
     },
     "metadata": {},
     "output_type": "display_data"
    }
   ],
   "source": [
    "#Question_2----------->>>\n",
    "\n",
    "\n",
    "import numpy as np\n",
    "from matplotlib_venn import venn3\n",
    "import matplotlib.pyplot as plt\n",
    "\n",
    "A = np.array([1, 2, 3, 4])\n",
    "B = np.array([3, 4, 5, 6])\n",
    "C = np.array([5, 6, 7, 8])\n",
    "\n",
    "set_A = set(A)\n",
    "set_B = set(B)\n",
    "set_C = set(C)\n",
    "\n",
    "# Distributive Property:\n",
    "\n",
    "left_side = set_A.intersection(set_B.union(set_C))\n",
    "right_side = set_A.intersection(set_B).union(set_A.intersection(set_C))\n",
    "distributive_property_holds = left_side == right_side\n",
    "\n",
    "# De Morgan's Laws:\n",
    "\n",
    "universal_set = set(range(1, 9))  # Define a universal set\n",
    "complement_A = universal_set - set_A\n",
    "complement_B = universal_set - set_B\n",
    "\n",
    "left_de_morgan_1 = universal_set - (set_A.union(set_B))\n",
    "right_de_morgan_1 = complement_A.intersection(complement_B)\n",
    "de_morgan_1_holds = left_de_morgan_1 == right_de_morgan_1\n",
    "\n",
    "left_de_morgan_2 = universal_set - (set_A.intersection(set_B))\n",
    "right_de_morgan_2 = complement_A.union(complement_B)\n",
    "de_morgan_2_holds = left_de_morgan_2 == right_de_morgan_2\n",
    "\n",
    "# Display Results\n",
    "print(\"Distributive Property Holds:\", distributive_property_holds)\n",
    "print(\"De Morgan's First Law Holds:\", de_morgan_1_holds)\n",
    "print(\"De Morgan's Second Law Holds:\", de_morgan_2_holds)\n",
    "\n",
    "# Visualization with venn3\n",
    "plt.figure(figsize=(8, 8))\n",
    "venn3([set_A, set_B, set_C], ('A', 'B', 'C'))\n",
    "plt.title('Venn Diagram for Sets A, B, C')\n",
    "plt.show()"
   ]
  },
  {
   "cell_type": "code",
   "execution_count": 4,
   "id": "d3680ff5-dca2-40d7-be8e-70585c4099a1",
   "metadata": {},
   "outputs": [
    {
     "name": "stdout",
     "output_type": "stream",
     "text": [
      "Union of all students: {'Alice', 'Eve', 'David', 'Charlie', 'Bob'}\n",
      "Intersection of all students: {'Charlie'}\n"
     ]
    },
    {
     "name": "stderr",
     "output_type": "stream",
     "text": [
      "C:\\Users\\Lenovo\\AppData\\Local\\Temp\\ipykernel_13004\\3210171962.py:4: DeprecationWarning: \n",
      "Pyarrow will become a required dependency of pandas in the next major release of pandas (pandas 3.0),\n",
      "(to allow more performant data types, such as the Arrow string type, and better interoperability with other libraries)\n",
      "but was not found to be installed on your system.\n",
      "If this would cause problems for you,\n",
      "please provide us feedback at https://github.com/pandas-dev/pandas/issues/54466\n",
      "        \n",
      "  import pandas as pd\n"
     ]
    }
   ],
   "source": [
    "#Question_3\n",
    "\n",
    "\n",
    "import pandas as pd\n",
    "\n",
    "# Dictionary of marks\n",
    "marks = {\n",
    "    \"Math\": {\"Alice\": 85, \"Bob\": 90, \"Charlie\": 78},\n",
    "    \"Physics\": {\"Bob\": 88, \"Charlie\": 92, \"David\": 75},\n",
    "    \"Chemistry\": {\"Alice\": 82, \"Charlie\": 80, \"Eve\": 91},\n",
    "}\n",
    "\n",
    "# Convert the dictionary to a DataFrame\n",
    "df = pd.DataFrame(marks).T\n",
    "\n",
    "# Union of all students across the three subjects\n",
    "students_union = set(df.columns)\n",
    "\n",
    "# Intersection of all students across the three subjects\n",
    "students_intersection = set.intersection(*[set(subject.keys()) for subject in marks.values()])\n",
    "\n",
    "# Display the results\n",
    "print(\"Union of all students:\", students_union)\n",
    "print(\"Intersection of all students:\", students_intersection)#"
   ]
  },
  {
   "cell_type": "code",
   "execution_count": 5,
   "id": "590ea219-8990-4558-88bf-c580cb593115",
   "metadata": {},
   "outputs": [
    {
     "name": "stdout",
     "output_type": "stream",
     "text": [
      "Cartesian Product of A and B: {(1, 'b'), (2, 'a'), (3, 'a'), (1, 'a'), (2, 'b'), (3, 'b')}\n"
     ]
    }
   ],
   "source": [
    "#Question_4----------->>\n",
    "def cartesian_product(set_a, set_b):\n",
    "    cartesian_result = set()\n",
    "    for a in set_a:\n",
    "        for b in set_b:\n",
    "            cartesian_result.add((a, b))\n",
    "    return cartesian_result\n",
    "\n",
    "\n",
    "# Example usage\n",
    "A = {1, 2, 3}\n",
    "B = {'a', 'b'}\n",
    "\n",
    "result = cartesian_product(A, B)\n",
    "print(\"Cartesian Product of A and B:\", result)"
   ]
  },
  {
   "cell_type": "code",
   "execution_count": null,
   "id": "8cd4fcaa-62c9-4775-bfe3-9101745c1cd4",
   "metadata": {},
   "outputs": [],
   "source": []
  }
 ],
 "metadata": {
  "kernelspec": {
   "display_name": "Python 3 (ipykernel)",
   "language": "python",
   "name": "python3"
  },
  "language_info": {
   "codemirror_mode": {
    "name": "ipython",
    "version": 3
   },
   "file_extension": ".py",
   "mimetype": "text/x-python",
   "name": "python",
   "nbconvert_exporter": "python",
   "pygments_lexer": "ipython3",
   "version": "3.12.1"
  }
 },
 "nbformat": 4,
 "nbformat_minor": 5
}
